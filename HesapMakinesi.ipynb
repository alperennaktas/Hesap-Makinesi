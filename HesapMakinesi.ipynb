{
 "cells": [
  {
   "cell_type": "code",
   "execution_count": 1,
   "id": "f7635aa7",
   "metadata": {},
   "outputs": [
    {
     "name": "stdout",
     "output_type": "stream",
     "text": [
      "ilk sayıyı giriniz:10\n",
      "ikinci sayıyı giriniz:20\n",
      "işleminizi seçiniz: +-*/+\n"
     ]
    },
    {
     "data": {
      "text/plain": [
       "'10 + 20=30'"
      ]
     },
     "execution_count": 1,
     "metadata": {},
     "output_type": "execute_result"
    }
   ],
   "source": [
    "def hesapla(x,y,islem):\n",
    "    \n",
    "    if islem ==\"+\":\n",
    "        return (str(x) + \" + \" +str(y) + \"=\" + str(x+y))\n",
    "    if islem ==\"-\":\n",
    "        return (str(x) + \" -\" +str(y) + \"=\" + str(x-y))\n",
    "    if islem ==\"*\":\n",
    "        return (str(x) + \" *\" +str(y) + \"=\" + str(x*y))\n",
    "    if islem ==\"/\":\n",
    "        return (str(x) + \" /\" +str(y) + \"=\" + str(x/y))\n",
    "    \n",
    "x= int(input(\"ilk sayıyı giriniz:\"))\n",
    "y= int(input(\"ikinci sayıyı giriniz:\"))\n",
    "islem = input(\"işleminizi seçiniz: +-*/\")\n",
    "hesapla(x,y,islem)"
   ]
  },
  {
   "cell_type": "code",
   "execution_count": null,
   "id": "71df8e15",
   "metadata": {},
   "outputs": [],
   "source": []
  }
 ],
 "metadata": {
  "kernelspec": {
   "display_name": "Python 3 (ipykernel)",
   "language": "python",
   "name": "python3"
  },
  "language_info": {
   "codemirror_mode": {
    "name": "ipython",
    "version": 3
   },
   "file_extension": ".py",
   "mimetype": "text/x-python",
   "name": "python",
   "nbconvert_exporter": "python",
   "pygments_lexer": "ipython3",
   "version": "3.9.7"
  }
 },
 "nbformat": 4,
 "nbformat_minor": 5
}
